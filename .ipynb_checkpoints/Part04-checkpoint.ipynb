{
 "cells": [
  {
   "cell_type": "markdown",
   "metadata": {},
   "source": [
    "#### 04-2 ####"
   ]
  },
  {
   "cell_type": "code",
   "execution_count": 1,
   "metadata": {},
   "outputs": [],
   "source": [
    "## ---------------------------------------------------------------------- ##"
   ]
  },
  {
   "cell_type": "code",
   "execution_count": 2,
   "metadata": {},
   "outputs": [
    {
     "data": {
      "text/html": [
       "<style>\n",
       ".list-inline {list-style: none; margin:0; padding: 0}\n",
       ".list-inline>li {display: inline-block}\n",
       ".list-inline>li:not(:last-child)::after {content: \"\\00b7\"; padding: 0 .5ex}\n",
       "</style>\n",
       "<ol class=list-inline><li>90</li><li>80</li><li>60</li><li>70</li></ol>\n"
      ],
      "text/latex": [
       "\\begin{enumerate*}\n",
       "\\item 90\n",
       "\\item 80\n",
       "\\item 60\n",
       "\\item 70\n",
       "\\end{enumerate*}\n"
      ],
      "text/markdown": [
       "1. 90\n",
       "2. 80\n",
       "3. 60\n",
       "4. 70\n",
       "\n",
       "\n"
      ],
      "text/plain": [
       "[1] 90 80 60 70"
      ]
     },
     "metadata": {},
     "output_type": "display_data"
    }
   ],
   "source": [
    "english = c(90, 80, 60, 70) # 영어 점수 변수 생성\n",
    "english"
   ]
  },
  {
   "cell_type": "code",
   "execution_count": 3,
   "metadata": {},
   "outputs": [
    {
     "data": {
      "text/html": [
       "<style>\n",
       ".list-inline {list-style: none; margin:0; padding: 0}\n",
       ".list-inline>li {display: inline-block}\n",
       ".list-inline>li:not(:last-child)::after {content: \"\\00b7\"; padding: 0 .5ex}\n",
       "</style>\n",
       "<ol class=list-inline><li>50</li><li>60</li><li>100</li><li>20</li></ol>\n"
      ],
      "text/latex": [
       "\\begin{enumerate*}\n",
       "\\item 50\n",
       "\\item 60\n",
       "\\item 100\n",
       "\\item 20\n",
       "\\end{enumerate*}\n"
      ],
      "text/markdown": [
       "1. 50\n",
       "2. 60\n",
       "3. 100\n",
       "4. 20\n",
       "\n",
       "\n"
      ],
      "text/plain": [
       "[1]  50  60 100  20"
      ]
     },
     "metadata": {},
     "output_type": "display_data"
    }
   ],
   "source": [
    "math = c(50, 60, 100, 20) # 수학 점수 변수 생성\n",
    "math"
   ]
  },
  {
   "cell_type": "code",
   "execution_count": 4,
   "metadata": {},
   "outputs": [
    {
     "data": {
      "text/html": [
       "<table>\n",
       "<caption>A data.frame: 4 × 2</caption>\n",
       "<thead>\n",
       "\t<tr><th scope=col>english</th><th scope=col>math</th></tr>\n",
       "\t<tr><th scope=col>&lt;dbl&gt;</th><th scope=col>&lt;dbl&gt;</th></tr>\n",
       "</thead>\n",
       "<tbody>\n",
       "\t<tr><td>90</td><td> 50</td></tr>\n",
       "\t<tr><td>80</td><td> 60</td></tr>\n",
       "\t<tr><td>60</td><td>100</td></tr>\n",
       "\t<tr><td>70</td><td> 20</td></tr>\n",
       "</tbody>\n",
       "</table>\n"
      ],
      "text/latex": [
       "A data.frame: 4 × 2\n",
       "\\begin{tabular}{ll}\n",
       " english & math\\\\\n",
       " <dbl> & <dbl>\\\\\n",
       "\\hline\n",
       "\t 90 &  50\\\\\n",
       "\t 80 &  60\\\\\n",
       "\t 60 & 100\\\\\n",
       "\t 70 &  20\\\\\n",
       "\\end{tabular}\n"
      ],
      "text/markdown": [
       "\n",
       "A data.frame: 4 × 2\n",
       "\n",
       "| english &lt;dbl&gt; | math &lt;dbl&gt; |\n",
       "|---|---|\n",
       "| 90 |  50 |\n",
       "| 80 |  60 |\n",
       "| 60 | 100 |\n",
       "| 70 |  20 |\n",
       "\n"
      ],
      "text/plain": [
       "  english math\n",
       "1 90       50 \n",
       "2 80       60 \n",
       "3 60      100 \n",
       "4 70       20 "
      ]
     },
     "metadata": {},
     "output_type": "display_data"
    }
   ],
   "source": [
    "# english, math로 데이터 프레임 생성해서 df_midterm에 할당\n",
    "df_midterm = data.frame(english, math)\n",
    "df_midterm"
   ]
  },
  {
   "cell_type": "code",
   "execution_count": 5,
   "metadata": {},
   "outputs": [
    {
     "data": {
      "text/html": [
       "75"
      ],
      "text/latex": [
       "75"
      ],
      "text/markdown": [
       "75"
      ],
      "text/plain": [
       "[1] 75"
      ]
     },
     "metadata": {},
     "output_type": "display_data"
    },
    {
     "data": {
      "text/html": [
       "57.5"
      ],
      "text/latex": [
       "57.5"
      ],
      "text/markdown": [
       "57.5"
      ],
      "text/plain": [
       "[1] 57.5"
      ]
     },
     "metadata": {},
     "output_type": "display_data"
    }
   ],
   "source": [
    "mean(df_midterm$english) # df_midterm의 english로 평균 산출\n",
    "mean(df_midterm$math) # df_midterm의 math로 평균 산술"
   ]
  },
  {
   "cell_type": "code",
   "execution_count": 7,
   "metadata": {},
   "outputs": [
    {
     "data": {
      "text/html": [
       "<table>\n",
       "<caption>A data.frame: 4 × 3</caption>\n",
       "<thead>\n",
       "\t<tr><th scope=col>english</th><th scope=col>math</th><th scope=col>class</th></tr>\n",
       "\t<tr><th scope=col>&lt;dbl&gt;</th><th scope=col>&lt;dbl&gt;</th><th scope=col>&lt;dbl&gt;</th></tr>\n",
       "</thead>\n",
       "<tbody>\n",
       "\t<tr><td>90</td><td> 50</td><td>1</td></tr>\n",
       "\t<tr><td>80</td><td> 60</td><td>1</td></tr>\n",
       "\t<tr><td>60</td><td>100</td><td>2</td></tr>\n",
       "\t<tr><td>70</td><td> 20</td><td>2</td></tr>\n",
       "</tbody>\n",
       "</table>\n"
      ],
      "text/latex": [
       "A data.frame: 4 × 3\n",
       "\\begin{tabular}{lll}\n",
       " english & math & class\\\\\n",
       " <dbl> & <dbl> & <dbl>\\\\\n",
       "\\hline\n",
       "\t 90 &  50 & 1\\\\\n",
       "\t 80 &  60 & 1\\\\\n",
       "\t 60 & 100 & 2\\\\\n",
       "\t 70 &  20 & 2\\\\\n",
       "\\end{tabular}\n"
      ],
      "text/markdown": [
       "\n",
       "A data.frame: 4 × 3\n",
       "\n",
       "| english &lt;dbl&gt; | math &lt;dbl&gt; | class &lt;dbl&gt; |\n",
       "|---|---|---|\n",
       "| 90 |  50 | 1 |\n",
       "| 80 |  60 | 1 |\n",
       "| 60 | 100 | 2 |\n",
       "| 70 |  20 | 2 |\n",
       "\n"
      ],
      "text/plain": [
       "  english math class\n",
       "1 90       50  1    \n",
       "2 80       60  1    \n",
       "3 60      100  2    \n",
       "4 70       20  2    "
      ]
     },
     "metadata": {},
     "output_type": "display_data"
    }
   ],
   "source": [
    "df_midterm = data.frame(english = c(90, 80, 60, 70), math = c(50, 60, 100, 20), class = c(1, 1, 2, 2))\n",
    "df_midterm"
   ]
  },
  {
   "cell_type": "markdown",
   "metadata": {},
   "source": [
    "#### 04-3 ####"
   ]
  },
  {
   "cell_type": "code",
   "execution_count": 8,
   "metadata": {},
   "outputs": [],
   "source": [
    "## -------------------------------------------------------------------- ##"
   ]
  },
  {
   "cell_type": "code",
   "execution_count": 9,
   "metadata": {},
   "outputs": [
    {
     "name": "stderr",
     "output_type": "stream",
     "text": [
      "Installing package into 'C:/Users/admin/Documents/R/win-library/3.6'\n",
      "(as 'lib' is unspecified)\n",
      "\n"
     ]
    },
    {
     "name": "stdout",
     "output_type": "stream",
     "text": [
      "package 'readxl' successfully unpacked and MD5 sums checked\n",
      "\n",
      "The downloaded binary packages are in\n",
      "\tC:\\Users\\admin\\AppData\\Local\\Temp\\RtmpE31mdA\\downloaded_packages\n"
     ]
    },
    {
     "name": "stderr",
     "output_type": "stream",
     "text": [
      "Warning message:\n",
      "\"package 'readxl' was built under R version 3.6.3\"\n"
     ]
    }
   ],
   "source": [
    "install.packages('readxl')\n",
    "library(readxl)"
   ]
  },
  {
   "cell_type": "code",
   "execution_count": 10,
   "metadata": {},
   "outputs": [
    {
     "data": {
      "text/html": [
       "<table>\n",
       "<caption>A tibble: 20 × 5</caption>\n",
       "<thead>\n",
       "\t<tr><th scope=col>id</th><th scope=col>class</th><th scope=col>math</th><th scope=col>english</th><th scope=col>science</th></tr>\n",
       "\t<tr><th scope=col>&lt;dbl&gt;</th><th scope=col>&lt;dbl&gt;</th><th scope=col>&lt;dbl&gt;</th><th scope=col>&lt;dbl&gt;</th><th scope=col>&lt;dbl&gt;</th></tr>\n",
       "</thead>\n",
       "<tbody>\n",
       "\t<tr><td> 1</td><td>1</td><td>50</td><td>98</td><td>50</td></tr>\n",
       "\t<tr><td> 2</td><td>1</td><td>60</td><td>97</td><td>60</td></tr>\n",
       "\t<tr><td> 3</td><td>1</td><td>45</td><td>86</td><td>78</td></tr>\n",
       "\t<tr><td> 4</td><td>1</td><td>30</td><td>98</td><td>58</td></tr>\n",
       "\t<tr><td> 5</td><td>2</td><td>25</td><td>80</td><td>65</td></tr>\n",
       "\t<tr><td> 6</td><td>2</td><td>50</td><td>89</td><td>98</td></tr>\n",
       "\t<tr><td> 7</td><td>2</td><td>80</td><td>90</td><td>45</td></tr>\n",
       "\t<tr><td> 8</td><td>2</td><td>90</td><td>78</td><td>25</td></tr>\n",
       "\t<tr><td> 9</td><td>3</td><td>20</td><td>98</td><td>15</td></tr>\n",
       "\t<tr><td>10</td><td>3</td><td>50</td><td>98</td><td>45</td></tr>\n",
       "\t<tr><td>11</td><td>3</td><td>65</td><td>65</td><td>65</td></tr>\n",
       "\t<tr><td>12</td><td>3</td><td>45</td><td>85</td><td>32</td></tr>\n",
       "\t<tr><td>13</td><td>4</td><td>46</td><td>98</td><td>65</td></tr>\n",
       "\t<tr><td>14</td><td>4</td><td>48</td><td>87</td><td>12</td></tr>\n",
       "\t<tr><td>15</td><td>4</td><td>75</td><td>56</td><td>78</td></tr>\n",
       "\t<tr><td>16</td><td>4</td><td>58</td><td>98</td><td>65</td></tr>\n",
       "\t<tr><td>17</td><td>5</td><td>65</td><td>68</td><td>98</td></tr>\n",
       "\t<tr><td>18</td><td>5</td><td>80</td><td>78</td><td>90</td></tr>\n",
       "\t<tr><td>19</td><td>5</td><td>89</td><td>68</td><td>87</td></tr>\n",
       "\t<tr><td>20</td><td>5</td><td>78</td><td>83</td><td>58</td></tr>\n",
       "</tbody>\n",
       "</table>\n"
      ],
      "text/latex": [
       "A tibble: 20 × 5\n",
       "\\begin{tabular}{lllll}\n",
       " id & class & math & english & science\\\\\n",
       " <dbl> & <dbl> & <dbl> & <dbl> & <dbl>\\\\\n",
       "\\hline\n",
       "\t  1 & 1 & 50 & 98 & 50\\\\\n",
       "\t  2 & 1 & 60 & 97 & 60\\\\\n",
       "\t  3 & 1 & 45 & 86 & 78\\\\\n",
       "\t  4 & 1 & 30 & 98 & 58\\\\\n",
       "\t  5 & 2 & 25 & 80 & 65\\\\\n",
       "\t  6 & 2 & 50 & 89 & 98\\\\\n",
       "\t  7 & 2 & 80 & 90 & 45\\\\\n",
       "\t  8 & 2 & 90 & 78 & 25\\\\\n",
       "\t  9 & 3 & 20 & 98 & 15\\\\\n",
       "\t 10 & 3 & 50 & 98 & 45\\\\\n",
       "\t 11 & 3 & 65 & 65 & 65\\\\\n",
       "\t 12 & 3 & 45 & 85 & 32\\\\\n",
       "\t 13 & 4 & 46 & 98 & 65\\\\\n",
       "\t 14 & 4 & 48 & 87 & 12\\\\\n",
       "\t 15 & 4 & 75 & 56 & 78\\\\\n",
       "\t 16 & 4 & 58 & 98 & 65\\\\\n",
       "\t 17 & 5 & 65 & 68 & 98\\\\\n",
       "\t 18 & 5 & 80 & 78 & 90\\\\\n",
       "\t 19 & 5 & 89 & 68 & 87\\\\\n",
       "\t 20 & 5 & 78 & 83 & 58\\\\\n",
       "\\end{tabular}\n"
      ],
      "text/markdown": [
       "\n",
       "A tibble: 20 × 5\n",
       "\n",
       "| id &lt;dbl&gt; | class &lt;dbl&gt; | math &lt;dbl&gt; | english &lt;dbl&gt; | science &lt;dbl&gt; |\n",
       "|---|---|---|---|---|\n",
       "|  1 | 1 | 50 | 98 | 50 |\n",
       "|  2 | 1 | 60 | 97 | 60 |\n",
       "|  3 | 1 | 45 | 86 | 78 |\n",
       "|  4 | 1 | 30 | 98 | 58 |\n",
       "|  5 | 2 | 25 | 80 | 65 |\n",
       "|  6 | 2 | 50 | 89 | 98 |\n",
       "|  7 | 2 | 80 | 90 | 45 |\n",
       "|  8 | 2 | 90 | 78 | 25 |\n",
       "|  9 | 3 | 20 | 98 | 15 |\n",
       "| 10 | 3 | 50 | 98 | 45 |\n",
       "| 11 | 3 | 65 | 65 | 65 |\n",
       "| 12 | 3 | 45 | 85 | 32 |\n",
       "| 13 | 4 | 46 | 98 | 65 |\n",
       "| 14 | 4 | 48 | 87 | 12 |\n",
       "| 15 | 4 | 75 | 56 | 78 |\n",
       "| 16 | 4 | 58 | 98 | 65 |\n",
       "| 17 | 5 | 65 | 68 | 98 |\n",
       "| 18 | 5 | 80 | 78 | 90 |\n",
       "| 19 | 5 | 89 | 68 | 87 |\n",
       "| 20 | 5 | 78 | 83 | 58 |\n",
       "\n"
      ],
      "text/plain": [
       "   id class math english science\n",
       "1   1 1     50   98      50     \n",
       "2   2 1     60   97      60     \n",
       "3   3 1     45   86      78     \n",
       "4   4 1     30   98      58     \n",
       "5   5 2     25   80      65     \n",
       "6   6 2     50   89      98     \n",
       "7   7 2     80   90      45     \n",
       "8   8 2     90   78      25     \n",
       "9   9 3     20   98      15     \n",
       "10 10 3     50   98      45     \n",
       "11 11 3     65   65      65     \n",
       "12 12 3     45   85      32     \n",
       "13 13 4     46   98      65     \n",
       "14 14 4     48   87      12     \n",
       "15 15 4     75   56      78     \n",
       "16 16 4     58   98      65     \n",
       "17 17 5     65   68      98     \n",
       "18 18 5     80   78      90     \n",
       "19 19 5     89   68      87     \n",
       "20 20 5     78   83      58     "
      ]
     },
     "metadata": {},
     "output_type": "display_data"
    }
   ],
   "source": [
    "df_exam = read_excel('./Data/excel_exam.xlsx') # 엑셀 파일을 불러와서 df_exam에 할당\n",
    "df_exam"
   ]
  },
  {
   "cell_type": "code",
   "execution_count": 11,
   "metadata": {},
   "outputs": [
    {
     "data": {
      "text/html": [
       "84.9"
      ],
      "text/latex": [
       "84.9"
      ],
      "text/markdown": [
       "84.9"
      ],
      "text/plain": [
       "[1] 84.9"
      ]
     },
     "metadata": {},
     "output_type": "display_data"
    },
    {
     "data": {
      "text/html": [
       "59.45"
      ],
      "text/latex": [
       "59.45"
      ],
      "text/markdown": [
       "59.45"
      ],
      "text/plain": [
       "[1] 59.45"
      ]
     },
     "metadata": {},
     "output_type": "display_data"
    }
   ],
   "source": [
    "mean(df_exam$english)\n",
    "mean(df_exam$science)"
   ]
  },
  {
   "cell_type": "code",
   "execution_count": 12,
   "metadata": {},
   "outputs": [
    {
     "name": "stderr",
     "output_type": "stream",
     "text": [
      "New names:\n",
      "* `1` -> `1...1`\n",
      "* `1` -> `1...2`\n",
      "* `50` -> `50...3`\n",
      "* `50` -> `50...5`\n",
      "\n"
     ]
    },
    {
     "data": {
      "text/html": [
       "<table>\n",
       "<caption>A tibble: 7 × 5</caption>\n",
       "<thead>\n",
       "\t<tr><th scope=col>1...1</th><th scope=col>1...2</th><th scope=col>50...3</th><th scope=col>98</th><th scope=col>50...5</th></tr>\n",
       "\t<tr><th scope=col>&lt;dbl&gt;</th><th scope=col>&lt;dbl&gt;</th><th scope=col>&lt;dbl&gt;</th><th scope=col>&lt;dbl&gt;</th><th scope=col>&lt;dbl&gt;</th></tr>\n",
       "</thead>\n",
       "<tbody>\n",
       "\t<tr><td>2</td><td>1</td><td>60</td><td>97</td><td>60</td></tr>\n",
       "\t<tr><td>3</td><td>2</td><td>25</td><td>80</td><td>65</td></tr>\n",
       "\t<tr><td>4</td><td>2</td><td>50</td><td>89</td><td>98</td></tr>\n",
       "\t<tr><td>5</td><td>3</td><td>20</td><td>98</td><td>15</td></tr>\n",
       "\t<tr><td>6</td><td>3</td><td>50</td><td>98</td><td>45</td></tr>\n",
       "\t<tr><td>7</td><td>4</td><td>46</td><td>98</td><td>65</td></tr>\n",
       "\t<tr><td>8</td><td>4</td><td>48</td><td>87</td><td>12</td></tr>\n",
       "</tbody>\n",
       "</table>\n"
      ],
      "text/latex": [
       "A tibble: 7 × 5\n",
       "\\begin{tabular}{lllll}\n",
       " 1...1 & 1...2 & 50...3 & 98 & 50...5\\\\\n",
       " <dbl> & <dbl> & <dbl> & <dbl> & <dbl>\\\\\n",
       "\\hline\n",
       "\t 2 & 1 & 60 & 97 & 60\\\\\n",
       "\t 3 & 2 & 25 & 80 & 65\\\\\n",
       "\t 4 & 2 & 50 & 89 & 98\\\\\n",
       "\t 5 & 3 & 20 & 98 & 15\\\\\n",
       "\t 6 & 3 & 50 & 98 & 45\\\\\n",
       "\t 7 & 4 & 46 & 98 & 65\\\\\n",
       "\t 8 & 4 & 48 & 87 & 12\\\\\n",
       "\\end{tabular}\n"
      ],
      "text/markdown": [
       "\n",
       "A tibble: 7 × 5\n",
       "\n",
       "| 1...1 &lt;dbl&gt; | 1...2 &lt;dbl&gt; | 50...3 &lt;dbl&gt; | 98 &lt;dbl&gt; | 50...5 &lt;dbl&gt; |\n",
       "|---|---|---|---|---|\n",
       "| 2 | 1 | 60 | 97 | 60 |\n",
       "| 3 | 2 | 25 | 80 | 65 |\n",
       "| 4 | 2 | 50 | 89 | 98 |\n",
       "| 5 | 3 | 20 | 98 | 15 |\n",
       "| 6 | 3 | 50 | 98 | 45 |\n",
       "| 7 | 4 | 46 | 98 | 65 |\n",
       "| 8 | 4 | 48 | 87 | 12 |\n",
       "\n"
      ],
      "text/plain": [
       "  1...1 1...2 50...3 98 50...5\n",
       "1 2     1     60     97 60    \n",
       "2 3     2     25     80 65    \n",
       "3 4     2     50     89 98    \n",
       "4 5     3     20     98 15    \n",
       "5 6     3     50     98 45    \n",
       "6 7     4     46     98 65    \n",
       "7 8     4     48     87 12    "
      ]
     },
     "metadata": {},
     "output_type": "display_data"
    }
   ],
   "source": [
    "df_exam_novar = read_excel('./Data/excel_exam_novar.xlsx')\n",
    "df_exam_novar"
   ]
  },
  {
   "cell_type": "code",
   "execution_count": 13,
   "metadata": {},
   "outputs": [
    {
     "name": "stderr",
     "output_type": "stream",
     "text": [
      "New names:\n",
      "* `` -> ...1\n",
      "* `` -> ...2\n",
      "* `` -> ...3\n",
      "* `` -> ...4\n",
      "* `` -> ...5\n",
      "\n"
     ]
    },
    {
     "data": {
      "text/html": [
       "<table>\n",
       "<caption>A tibble: 8 × 5</caption>\n",
       "<thead>\n",
       "\t<tr><th scope=col>...1</th><th scope=col>...2</th><th scope=col>...3</th><th scope=col>...4</th><th scope=col>...5</th></tr>\n",
       "\t<tr><th scope=col>&lt;dbl&gt;</th><th scope=col>&lt;dbl&gt;</th><th scope=col>&lt;dbl&gt;</th><th scope=col>&lt;dbl&gt;</th><th scope=col>&lt;dbl&gt;</th></tr>\n",
       "</thead>\n",
       "<tbody>\n",
       "\t<tr><td>1</td><td>1</td><td>50</td><td>98</td><td>50</td></tr>\n",
       "\t<tr><td>2</td><td>1</td><td>60</td><td>97</td><td>60</td></tr>\n",
       "\t<tr><td>3</td><td>2</td><td>25</td><td>80</td><td>65</td></tr>\n",
       "\t<tr><td>4</td><td>2</td><td>50</td><td>89</td><td>98</td></tr>\n",
       "\t<tr><td>5</td><td>3</td><td>20</td><td>98</td><td>15</td></tr>\n",
       "\t<tr><td>6</td><td>3</td><td>50</td><td>98</td><td>45</td></tr>\n",
       "\t<tr><td>7</td><td>4</td><td>46</td><td>98</td><td>65</td></tr>\n",
       "\t<tr><td>8</td><td>4</td><td>48</td><td>87</td><td>12</td></tr>\n",
       "</tbody>\n",
       "</table>\n"
      ],
      "text/latex": [
       "A tibble: 8 × 5\n",
       "\\begin{tabular}{lllll}\n",
       " ...1 & ...2 & ...3 & ...4 & ...5\\\\\n",
       " <dbl> & <dbl> & <dbl> & <dbl> & <dbl>\\\\\n",
       "\\hline\n",
       "\t 1 & 1 & 50 & 98 & 50\\\\\n",
       "\t 2 & 1 & 60 & 97 & 60\\\\\n",
       "\t 3 & 2 & 25 & 80 & 65\\\\\n",
       "\t 4 & 2 & 50 & 89 & 98\\\\\n",
       "\t 5 & 3 & 20 & 98 & 15\\\\\n",
       "\t 6 & 3 & 50 & 98 & 45\\\\\n",
       "\t 7 & 4 & 46 & 98 & 65\\\\\n",
       "\t 8 & 4 & 48 & 87 & 12\\\\\n",
       "\\end{tabular}\n"
      ],
      "text/markdown": [
       "\n",
       "A tibble: 8 × 5\n",
       "\n",
       "| ...1 &lt;dbl&gt; | ...2 &lt;dbl&gt; | ...3 &lt;dbl&gt; | ...4 &lt;dbl&gt; | ...5 &lt;dbl&gt; |\n",
       "|---|---|---|---|---|\n",
       "| 1 | 1 | 50 | 98 | 50 |\n",
       "| 2 | 1 | 60 | 97 | 60 |\n",
       "| 3 | 2 | 25 | 80 | 65 |\n",
       "| 4 | 2 | 50 | 89 | 98 |\n",
       "| 5 | 3 | 20 | 98 | 15 |\n",
       "| 6 | 3 | 50 | 98 | 45 |\n",
       "| 7 | 4 | 46 | 98 | 65 |\n",
       "| 8 | 4 | 48 | 87 | 12 |\n",
       "\n"
      ],
      "text/plain": [
       "  ...1 ...2 ...3 ...4 ...5\n",
       "1 1    1    50   98   50  \n",
       "2 2    1    60   97   60  \n",
       "3 3    2    25   80   65  \n",
       "4 4    2    50   89   98  \n",
       "5 5    3    20   98   15  \n",
       "6 6    3    50   98   45  \n",
       "7 7    4    46   98   65  \n",
       "8 8    4    48   87   12  "
      ]
     },
     "metadata": {},
     "output_type": "display_data"
    }
   ],
   "source": [
    "df_exam_novar = read_excel('./Data/excel_exam_novar.xlsx', col_names = F)\n",
    "df_exam_novar"
   ]
  },
  {
   "cell_type": "code",
   "execution_count": 14,
   "metadata": {},
   "outputs": [
    {
     "data": {
      "text/html": [
       "<table>\n",
       "<caption>A tibble: 8 × 5</caption>\n",
       "<thead>\n",
       "\t<tr><th scope=col>id</th><th scope=col>class</th><th scope=col>math</th><th scope=col>english</th><th scope=col>science</th></tr>\n",
       "\t<tr><th scope=col>&lt;dbl&gt;</th><th scope=col>&lt;dbl&gt;</th><th scope=col>&lt;dbl&gt;</th><th scope=col>&lt;dbl&gt;</th><th scope=col>&lt;dbl&gt;</th></tr>\n",
       "</thead>\n",
       "<tbody>\n",
       "\t<tr><td>1</td><td>1</td><td>50</td><td>98</td><td>50</td></tr>\n",
       "\t<tr><td>2</td><td>1</td><td>60</td><td>97</td><td>60</td></tr>\n",
       "\t<tr><td>3</td><td>2</td><td>25</td><td>80</td><td>65</td></tr>\n",
       "\t<tr><td>4</td><td>2</td><td>50</td><td>89</td><td>98</td></tr>\n",
       "\t<tr><td>5</td><td>3</td><td>20</td><td>98</td><td>15</td></tr>\n",
       "\t<tr><td>6</td><td>3</td><td>50</td><td>98</td><td>45</td></tr>\n",
       "\t<tr><td>7</td><td>4</td><td>46</td><td>98</td><td>65</td></tr>\n",
       "\t<tr><td>8</td><td>4</td><td>48</td><td>87</td><td>12</td></tr>\n",
       "</tbody>\n",
       "</table>\n"
      ],
      "text/latex": [
       "A tibble: 8 × 5\n",
       "\\begin{tabular}{lllll}\n",
       " id & class & math & english & science\\\\\n",
       " <dbl> & <dbl> & <dbl> & <dbl> & <dbl>\\\\\n",
       "\\hline\n",
       "\t 1 & 1 & 50 & 98 & 50\\\\\n",
       "\t 2 & 1 & 60 & 97 & 60\\\\\n",
       "\t 3 & 2 & 25 & 80 & 65\\\\\n",
       "\t 4 & 2 & 50 & 89 & 98\\\\\n",
       "\t 5 & 3 & 20 & 98 & 15\\\\\n",
       "\t 6 & 3 & 50 & 98 & 45\\\\\n",
       "\t 7 & 4 & 46 & 98 & 65\\\\\n",
       "\t 8 & 4 & 48 & 87 & 12\\\\\n",
       "\\end{tabular}\n"
      ],
      "text/markdown": [
       "\n",
       "A tibble: 8 × 5\n",
       "\n",
       "| id &lt;dbl&gt; | class &lt;dbl&gt; | math &lt;dbl&gt; | english &lt;dbl&gt; | science &lt;dbl&gt; |\n",
       "|---|---|---|---|---|\n",
       "| 1 | 1 | 50 | 98 | 50 |\n",
       "| 2 | 1 | 60 | 97 | 60 |\n",
       "| 3 | 2 | 25 | 80 | 65 |\n",
       "| 4 | 2 | 50 | 89 | 98 |\n",
       "| 5 | 3 | 20 | 98 | 15 |\n",
       "| 6 | 3 | 50 | 98 | 45 |\n",
       "| 7 | 4 | 46 | 98 | 65 |\n",
       "| 8 | 4 | 48 | 87 | 12 |\n",
       "\n"
      ],
      "text/plain": [
       "  id class math english science\n",
       "1 1  1     50   98      50     \n",
       "2 2  1     60   97      60     \n",
       "3 3  2     25   80      65     \n",
       "4 4  2     50   89      98     \n",
       "5 5  3     20   98      15     \n",
       "6 6  3     50   98      45     \n",
       "7 7  4     46   98      65     \n",
       "8 8  4     48   87      12     "
      ]
     },
     "metadata": {},
     "output_type": "display_data"
    }
   ],
   "source": [
    "# 엑셀 파일의 세 번째 시트에 있는 데이터 불러오기\n",
    "df_exam_sheet <- read_excel(\"./Data/excel_exam_sheet.xlsx\", sheet = 3)\n",
    "df_exam_sheet"
   ]
  },
  {
   "cell_type": "code",
   "execution_count": 15,
   "metadata": {},
   "outputs": [],
   "source": [
    "## -------------------------------------------------------------------- ##"
   ]
  },
  {
   "cell_type": "code",
   "execution_count": 16,
   "metadata": {},
   "outputs": [
    {
     "data": {
      "text/html": [
       "<table>\n",
       "<caption>A data.frame: 20 × 5</caption>\n",
       "<thead>\n",
       "\t<tr><th scope=col>id</th><th scope=col>class</th><th scope=col>math</th><th scope=col>english</th><th scope=col>science</th></tr>\n",
       "\t<tr><th scope=col>&lt;int&gt;</th><th scope=col>&lt;int&gt;</th><th scope=col>&lt;int&gt;</th><th scope=col>&lt;int&gt;</th><th scope=col>&lt;int&gt;</th></tr>\n",
       "</thead>\n",
       "<tbody>\n",
       "\t<tr><td> 1</td><td>1</td><td>50</td><td>98</td><td>50</td></tr>\n",
       "\t<tr><td> 2</td><td>1</td><td>60</td><td>97</td><td>60</td></tr>\n",
       "\t<tr><td> 3</td><td>1</td><td>45</td><td>86</td><td>78</td></tr>\n",
       "\t<tr><td> 4</td><td>1</td><td>30</td><td>98</td><td>58</td></tr>\n",
       "\t<tr><td> 5</td><td>2</td><td>25</td><td>80</td><td>65</td></tr>\n",
       "\t<tr><td> 6</td><td>2</td><td>50</td><td>89</td><td>98</td></tr>\n",
       "\t<tr><td> 7</td><td>2</td><td>80</td><td>90</td><td>45</td></tr>\n",
       "\t<tr><td> 8</td><td>2</td><td>90</td><td>78</td><td>25</td></tr>\n",
       "\t<tr><td> 9</td><td>3</td><td>20</td><td>98</td><td>15</td></tr>\n",
       "\t<tr><td>10</td><td>3</td><td>50</td><td>98</td><td>45</td></tr>\n",
       "\t<tr><td>11</td><td>3</td><td>65</td><td>65</td><td>65</td></tr>\n",
       "\t<tr><td>12</td><td>3</td><td>45</td><td>85</td><td>32</td></tr>\n",
       "\t<tr><td>13</td><td>4</td><td>46</td><td>98</td><td>65</td></tr>\n",
       "\t<tr><td>14</td><td>4</td><td>48</td><td>87</td><td>12</td></tr>\n",
       "\t<tr><td>15</td><td>4</td><td>75</td><td>56</td><td>78</td></tr>\n",
       "\t<tr><td>16</td><td>4</td><td>58</td><td>98</td><td>65</td></tr>\n",
       "\t<tr><td>17</td><td>5</td><td>65</td><td>68</td><td>98</td></tr>\n",
       "\t<tr><td>18</td><td>5</td><td>80</td><td>78</td><td>90</td></tr>\n",
       "\t<tr><td>19</td><td>5</td><td>89</td><td>68</td><td>87</td></tr>\n",
       "\t<tr><td>20</td><td>5</td><td>78</td><td>83</td><td>58</td></tr>\n",
       "</tbody>\n",
       "</table>\n"
      ],
      "text/latex": [
       "A data.frame: 20 × 5\n",
       "\\begin{tabular}{lllll}\n",
       " id & class & math & english & science\\\\\n",
       " <int> & <int> & <int> & <int> & <int>\\\\\n",
       "\\hline\n",
       "\t  1 & 1 & 50 & 98 & 50\\\\\n",
       "\t  2 & 1 & 60 & 97 & 60\\\\\n",
       "\t  3 & 1 & 45 & 86 & 78\\\\\n",
       "\t  4 & 1 & 30 & 98 & 58\\\\\n",
       "\t  5 & 2 & 25 & 80 & 65\\\\\n",
       "\t  6 & 2 & 50 & 89 & 98\\\\\n",
       "\t  7 & 2 & 80 & 90 & 45\\\\\n",
       "\t  8 & 2 & 90 & 78 & 25\\\\\n",
       "\t  9 & 3 & 20 & 98 & 15\\\\\n",
       "\t 10 & 3 & 50 & 98 & 45\\\\\n",
       "\t 11 & 3 & 65 & 65 & 65\\\\\n",
       "\t 12 & 3 & 45 & 85 & 32\\\\\n",
       "\t 13 & 4 & 46 & 98 & 65\\\\\n",
       "\t 14 & 4 & 48 & 87 & 12\\\\\n",
       "\t 15 & 4 & 75 & 56 & 78\\\\\n",
       "\t 16 & 4 & 58 & 98 & 65\\\\\n",
       "\t 17 & 5 & 65 & 68 & 98\\\\\n",
       "\t 18 & 5 & 80 & 78 & 90\\\\\n",
       "\t 19 & 5 & 89 & 68 & 87\\\\\n",
       "\t 20 & 5 & 78 & 83 & 58\\\\\n",
       "\\end{tabular}\n"
      ],
      "text/markdown": [
       "\n",
       "A data.frame: 20 × 5\n",
       "\n",
       "| id &lt;int&gt; | class &lt;int&gt; | math &lt;int&gt; | english &lt;int&gt; | science &lt;int&gt; |\n",
       "|---|---|---|---|---|\n",
       "|  1 | 1 | 50 | 98 | 50 |\n",
       "|  2 | 1 | 60 | 97 | 60 |\n",
       "|  3 | 1 | 45 | 86 | 78 |\n",
       "|  4 | 1 | 30 | 98 | 58 |\n",
       "|  5 | 2 | 25 | 80 | 65 |\n",
       "|  6 | 2 | 50 | 89 | 98 |\n",
       "|  7 | 2 | 80 | 90 | 45 |\n",
       "|  8 | 2 | 90 | 78 | 25 |\n",
       "|  9 | 3 | 20 | 98 | 15 |\n",
       "| 10 | 3 | 50 | 98 | 45 |\n",
       "| 11 | 3 | 65 | 65 | 65 |\n",
       "| 12 | 3 | 45 | 85 | 32 |\n",
       "| 13 | 4 | 46 | 98 | 65 |\n",
       "| 14 | 4 | 48 | 87 | 12 |\n",
       "| 15 | 4 | 75 | 56 | 78 |\n",
       "| 16 | 4 | 58 | 98 | 65 |\n",
       "| 17 | 5 | 65 | 68 | 98 |\n",
       "| 18 | 5 | 80 | 78 | 90 |\n",
       "| 19 | 5 | 89 | 68 | 87 |\n",
       "| 20 | 5 | 78 | 83 | 58 |\n",
       "\n"
      ],
      "text/plain": [
       "   id class math english science\n",
       "1   1 1     50   98      50     \n",
       "2   2 1     60   97      60     \n",
       "3   3 1     45   86      78     \n",
       "4   4 1     30   98      58     \n",
       "5   5 2     25   80      65     \n",
       "6   6 2     50   89      98     \n",
       "7   7 2     80   90      45     \n",
       "8   8 2     90   78      25     \n",
       "9   9 3     20   98      15     \n",
       "10 10 3     50   98      45     \n",
       "11 11 3     65   65      65     \n",
       "12 12 3     45   85      32     \n",
       "13 13 4     46   98      65     \n",
       "14 14 4     48   87      12     \n",
       "15 15 4     75   56      78     \n",
       "16 16 4     58   98      65     \n",
       "17 17 5     65   68      98     \n",
       "18 18 5     80   78      90     \n",
       "19 19 5     89   68      87     \n",
       "20 20 5     78   83      58     "
      ]
     },
     "metadata": {},
     "output_type": "display_data"
    }
   ],
   "source": [
    "df_csv_exam = read.csv('./Data/csv_exam.csv')\n",
    "df_csv_exam"
   ]
  },
  {
   "cell_type": "code",
   "execution_count": 18,
   "metadata": {},
   "outputs": [
    {
     "data": {
      "text/html": [
       "<table>\n",
       "<caption>A data.frame: 20 × 5</caption>\n",
       "<thead>\n",
       "\t<tr><th scope=col>id</th><th scope=col>class</th><th scope=col>math</th><th scope=col>english</th><th scope=col>science</th></tr>\n",
       "\t<tr><th scope=col>&lt;int&gt;</th><th scope=col>&lt;int&gt;</th><th scope=col>&lt;int&gt;</th><th scope=col>&lt;int&gt;</th><th scope=col>&lt;int&gt;</th></tr>\n",
       "</thead>\n",
       "<tbody>\n",
       "\t<tr><td> 1</td><td>1</td><td>50</td><td>98</td><td>50</td></tr>\n",
       "\t<tr><td> 2</td><td>1</td><td>60</td><td>97</td><td>60</td></tr>\n",
       "\t<tr><td> 3</td><td>1</td><td>45</td><td>86</td><td>78</td></tr>\n",
       "\t<tr><td> 4</td><td>1</td><td>30</td><td>98</td><td>58</td></tr>\n",
       "\t<tr><td> 5</td><td>2</td><td>25</td><td>80</td><td>65</td></tr>\n",
       "\t<tr><td> 6</td><td>2</td><td>50</td><td>89</td><td>98</td></tr>\n",
       "\t<tr><td> 7</td><td>2</td><td>80</td><td>90</td><td>45</td></tr>\n",
       "\t<tr><td> 8</td><td>2</td><td>90</td><td>78</td><td>25</td></tr>\n",
       "\t<tr><td> 9</td><td>3</td><td>20</td><td>98</td><td>15</td></tr>\n",
       "\t<tr><td>10</td><td>3</td><td>50</td><td>98</td><td>45</td></tr>\n",
       "\t<tr><td>11</td><td>3</td><td>65</td><td>65</td><td>65</td></tr>\n",
       "\t<tr><td>12</td><td>3</td><td>45</td><td>85</td><td>32</td></tr>\n",
       "\t<tr><td>13</td><td>4</td><td>46</td><td>98</td><td>65</td></tr>\n",
       "\t<tr><td>14</td><td>4</td><td>48</td><td>87</td><td>12</td></tr>\n",
       "\t<tr><td>15</td><td>4</td><td>75</td><td>56</td><td>78</td></tr>\n",
       "\t<tr><td>16</td><td>4</td><td>58</td><td>98</td><td>65</td></tr>\n",
       "\t<tr><td>17</td><td>5</td><td>65</td><td>68</td><td>98</td></tr>\n",
       "\t<tr><td>18</td><td>5</td><td>80</td><td>78</td><td>90</td></tr>\n",
       "\t<tr><td>19</td><td>5</td><td>89</td><td>68</td><td>87</td></tr>\n",
       "\t<tr><td>20</td><td>5</td><td>78</td><td>83</td><td>58</td></tr>\n",
       "</tbody>\n",
       "</table>\n"
      ],
      "text/latex": [
       "A data.frame: 20 × 5\n",
       "\\begin{tabular}{lllll}\n",
       " id & class & math & english & science\\\\\n",
       " <int> & <int> & <int> & <int> & <int>\\\\\n",
       "\\hline\n",
       "\t  1 & 1 & 50 & 98 & 50\\\\\n",
       "\t  2 & 1 & 60 & 97 & 60\\\\\n",
       "\t  3 & 1 & 45 & 86 & 78\\\\\n",
       "\t  4 & 1 & 30 & 98 & 58\\\\\n",
       "\t  5 & 2 & 25 & 80 & 65\\\\\n",
       "\t  6 & 2 & 50 & 89 & 98\\\\\n",
       "\t  7 & 2 & 80 & 90 & 45\\\\\n",
       "\t  8 & 2 & 90 & 78 & 25\\\\\n",
       "\t  9 & 3 & 20 & 98 & 15\\\\\n",
       "\t 10 & 3 & 50 & 98 & 45\\\\\n",
       "\t 11 & 3 & 65 & 65 & 65\\\\\n",
       "\t 12 & 3 & 45 & 85 & 32\\\\\n",
       "\t 13 & 4 & 46 & 98 & 65\\\\\n",
       "\t 14 & 4 & 48 & 87 & 12\\\\\n",
       "\t 15 & 4 & 75 & 56 & 78\\\\\n",
       "\t 16 & 4 & 58 & 98 & 65\\\\\n",
       "\t 17 & 5 & 65 & 68 & 98\\\\\n",
       "\t 18 & 5 & 80 & 78 & 90\\\\\n",
       "\t 19 & 5 & 89 & 68 & 87\\\\\n",
       "\t 20 & 5 & 78 & 83 & 58\\\\\n",
       "\\end{tabular}\n"
      ],
      "text/markdown": [
       "\n",
       "A data.frame: 20 × 5\n",
       "\n",
       "| id &lt;int&gt; | class &lt;int&gt; | math &lt;int&gt; | english &lt;int&gt; | science &lt;int&gt; |\n",
       "|---|---|---|---|---|\n",
       "|  1 | 1 | 50 | 98 | 50 |\n",
       "|  2 | 1 | 60 | 97 | 60 |\n",
       "|  3 | 1 | 45 | 86 | 78 |\n",
       "|  4 | 1 | 30 | 98 | 58 |\n",
       "|  5 | 2 | 25 | 80 | 65 |\n",
       "|  6 | 2 | 50 | 89 | 98 |\n",
       "|  7 | 2 | 80 | 90 | 45 |\n",
       "|  8 | 2 | 90 | 78 | 25 |\n",
       "|  9 | 3 | 20 | 98 | 15 |\n",
       "| 10 | 3 | 50 | 98 | 45 |\n",
       "| 11 | 3 | 65 | 65 | 65 |\n",
       "| 12 | 3 | 45 | 85 | 32 |\n",
       "| 13 | 4 | 46 | 98 | 65 |\n",
       "| 14 | 4 | 48 | 87 | 12 |\n",
       "| 15 | 4 | 75 | 56 | 78 |\n",
       "| 16 | 4 | 58 | 98 | 65 |\n",
       "| 17 | 5 | 65 | 68 | 98 |\n",
       "| 18 | 5 | 80 | 78 | 90 |\n",
       "| 19 | 5 | 89 | 68 | 87 |\n",
       "| 20 | 5 | 78 | 83 | 58 |\n",
       "\n"
      ],
      "text/plain": [
       "   id class math english science\n",
       "1   1 1     50   98      50     \n",
       "2   2 1     60   97      60     \n",
       "3   3 1     45   86      78     \n",
       "4   4 1     30   98      58     \n",
       "5   5 2     25   80      65     \n",
       "6   6 2     50   89      98     \n",
       "7   7 2     80   90      45     \n",
       "8   8 2     90   78      25     \n",
       "9   9 3     20   98      15     \n",
       "10 10 3     50   98      45     \n",
       "11 11 3     65   65      65     \n",
       "12 12 3     45   85      32     \n",
       "13 13 4     46   98      65     \n",
       "14 14 4     48   87      12     \n",
       "15 15 4     75   56      78     \n",
       "16 16 4     58   98      65     \n",
       "17 17 5     65   68      98     \n",
       "18 18 5     80   78      90     \n",
       "19 19 5     89   68      87     \n",
       "20 20 5     78   83      58     "
      ]
     },
     "metadata": {},
     "output_type": "display_data"
    }
   ],
   "source": [
    "df_csv_exam = read.csv('./Data/csv_exam.csv', stringsAsFactors = F)\n",
    "df_csv_exam"
   ]
  },
  {
   "cell_type": "code",
   "execution_count": 19,
   "metadata": {},
   "outputs": [
    {
     "data": {
      "text/html": [
       "<table>\n",
       "<caption>A data.frame: 4 × 3</caption>\n",
       "<thead>\n",
       "\t<tr><th scope=col>english</th><th scope=col>math</th><th scope=col>class</th></tr>\n",
       "\t<tr><th scope=col>&lt;dbl&gt;</th><th scope=col>&lt;dbl&gt;</th><th scope=col>&lt;dbl&gt;</th></tr>\n",
       "</thead>\n",
       "<tbody>\n",
       "\t<tr><td>90</td><td> 50</td><td>1</td></tr>\n",
       "\t<tr><td>80</td><td> 60</td><td>1</td></tr>\n",
       "\t<tr><td>60</td><td>100</td><td>2</td></tr>\n",
       "\t<tr><td>70</td><td> 20</td><td>2</td></tr>\n",
       "</tbody>\n",
       "</table>\n"
      ],
      "text/latex": [
       "A data.frame: 4 × 3\n",
       "\\begin{tabular}{lll}\n",
       " english & math & class\\\\\n",
       " <dbl> & <dbl> & <dbl>\\\\\n",
       "\\hline\n",
       "\t 90 &  50 & 1\\\\\n",
       "\t 80 &  60 & 1\\\\\n",
       "\t 60 & 100 & 2\\\\\n",
       "\t 70 &  20 & 2\\\\\n",
       "\\end{tabular}\n"
      ],
      "text/markdown": [
       "\n",
       "A data.frame: 4 × 3\n",
       "\n",
       "| english &lt;dbl&gt; | math &lt;dbl&gt; | class &lt;dbl&gt; |\n",
       "|---|---|---|\n",
       "| 90 |  50 | 1 |\n",
       "| 80 |  60 | 1 |\n",
       "| 60 | 100 | 2 |\n",
       "| 70 |  20 | 2 |\n",
       "\n"
      ],
      "text/plain": [
       "  english math class\n",
       "1 90       50  1    \n",
       "2 80       60  1    \n",
       "3 60      100  2    \n",
       "4 70       20  2    "
      ]
     },
     "metadata": {},
     "output_type": "display_data"
    }
   ],
   "source": [
    "df_midterm = data.frame(english = c(90, 80, 60, 70), math = c(50, 60, 100, 20), class = c(1, 1, 2, 2))\n",
    "df_midterm"
   ]
  },
  {
   "cell_type": "code",
   "execution_count": 20,
   "metadata": {},
   "outputs": [],
   "source": [
    "write.csv(df_midterm, file = './Data/df_midterm.csv')"
   ]
  },
  {
   "cell_type": "code",
   "execution_count": 21,
   "metadata": {},
   "outputs": [],
   "source": [
    "save(df_midterm, file = 'df_midterm.rda')"
   ]
  },
  {
   "cell_type": "code",
   "execution_count": 22,
   "metadata": {},
   "outputs": [],
   "source": [
    "rm(df_midterm)"
   ]
  },
  {
   "cell_type": "code",
   "execution_count": 24,
   "metadata": {},
   "outputs": [],
   "source": [
    "load('df_midterm.rda')"
   ]
  },
  {
   "cell_type": "code",
   "execution_count": 25,
   "metadata": {},
   "outputs": [],
   "source": [
    "## -------------------------------------------------------------------- ##"
   ]
  },
  {
   "cell_type": "code",
   "execution_count": 26,
   "metadata": {},
   "outputs": [
    {
     "data": {
      "text/html": [
       "<table>\n",
       "<caption>A data.frame: 4 × 2</caption>\n",
       "<thead>\n",
       "\t<tr><th scope=col>english</th><th scope=col>math</th></tr>\n",
       "\t<tr><th scope=col>&lt;dbl&gt;</th><th scope=col>&lt;dbl&gt;</th></tr>\n",
       "</thead>\n",
       "<tbody>\n",
       "\t<tr><td>90</td><td> 50</td></tr>\n",
       "\t<tr><td>80</td><td> 60</td></tr>\n",
       "\t<tr><td>60</td><td>100</td></tr>\n",
       "\t<tr><td>70</td><td> 20</td></tr>\n",
       "</tbody>\n",
       "</table>\n"
      ],
      "text/latex": [
       "A data.frame: 4 × 2\n",
       "\\begin{tabular}{ll}\n",
       " english & math\\\\\n",
       " <dbl> & <dbl>\\\\\n",
       "\\hline\n",
       "\t 90 &  50\\\\\n",
       "\t 80 &  60\\\\\n",
       "\t 60 & 100\\\\\n",
       "\t 70 &  20\\\\\n",
       "\\end{tabular}\n"
      ],
      "text/markdown": [
       "\n",
       "A data.frame: 4 × 2\n",
       "\n",
       "| english &lt;dbl&gt; | math &lt;dbl&gt; |\n",
       "|---|---|\n",
       "| 90 |  50 |\n",
       "| 80 |  60 |\n",
       "| 60 | 100 |\n",
       "| 70 |  20 |\n",
       "\n"
      ],
      "text/plain": [
       "  english math\n",
       "1 90       50 \n",
       "2 80       60 \n",
       "3 60      100 \n",
       "4 70       20 "
      ]
     },
     "metadata": {},
     "output_type": "display_data"
    }
   ],
   "source": [
    "# 1. 변수 만들기, 데이터 프레임 만들기\n",
    "english = c(90, 80, 60, 70) # 영어 점수 변수 생성\n",
    "math = c(50, 60, 100, 20) # 수학 점수 변수 생성\n",
    "data.frame(english, math) # 데이터 프레임 생성"
   ]
  },
  {
   "cell_type": "code",
   "execution_count": 27,
   "metadata": {},
   "outputs": [],
   "source": [
    "# 2. 외부 데이터 이용하기"
   ]
  },
  {
   "cell_type": "code",
   "execution_count": 28,
   "metadata": {},
   "outputs": [],
   "source": [
    "# 엑셀 파일\n",
    "library(readxl) # readxl 패키지 로드\n",
    "df_exam = read_excel('./Data/excel_exam.xlsx') # 엑셀 파일 불러오기"
   ]
  },
  {
   "cell_type": "code",
   "execution_count": 29,
   "metadata": {},
   "outputs": [],
   "source": [
    "# CSV 파일\n",
    "df_csv_exam = read.csv('./Data/csv_exam.csv') # CSV 파일 불러오기\n",
    "write.csv(df_midterm, file = './Data/csv_exam.csv') # CSV 파일로 저장하기"
   ]
  },
  {
   "cell_type": "code",
   "execution_count": 30,
   "metadata": {},
   "outputs": [],
   "source": [
    "# Rda 파일\n",
    "load('df_midterm.rda') # Rda 파일 불러오기\n",
    "save(df_midterm, file = 'df_midterm.rda') # Rda 파일로 저장하기"
   ]
  },
  {
   "cell_type": "code",
   "execution_count": null,
   "metadata": {},
   "outputs": [],
   "source": []
  }
 ],
 "metadata": {
  "kernelspec": {
   "display_name": "R",
   "language": "R",
   "name": "ir"
  },
  "language_info": {
   "codemirror_mode": "r",
   "file_extension": ".r",
   "mimetype": "text/x-r-source",
   "name": "R",
   "pygments_lexer": "r",
   "version": "3.6.1"
  }
 },
 "nbformat": 4,
 "nbformat_minor": 4
}
